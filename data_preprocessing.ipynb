{
  "cells": [
    {
      "cell_type": "markdown",
      "metadata": {
        "id": "CoroQtp2XWGj"
      },
      "source": [
        "## Viewing Data"
      ]
    },
    {
      "cell_type": "code",
      "execution_count": null,
      "metadata": {
        "id": "s3_k2czy6Mxz"
      },
      "outputs": [],
      "source": [
        "# from google.colab import drive\n",
        "#drive.mount('/content/drive')"
      ]
    },
    {
      "cell_type": "code",
      "execution_count": null,
      "metadata": {
        "id": "bCSoLVaO7T_K"
      },
      "outputs": [],
      "source": [
        "# data types of each column\n",
        "\n",
        "# print(df.dtypes)"
      ]
    },
    {
      "cell_type": "code",
      "execution_count": null,
      "metadata": {
        "colab": {
          "base_uri": "https://localhost:8080/"
        },
        "id": "seaAGEfK6Z_C",
        "outputId": "c8f7cf17-dcec-450c-c087-163e0e52b7e7"
      },
      "outputs": [],
      "source": [
        "import pandas as pd\n",
        "#dataset_path = '/content/drive/My Drive/1__output.csv'\n",
        "dataset_path = '../training/entire.csv'\n",
        "df = pd.read_csv(dataset_path)"
      ]
    },
    {
      "cell_type": "code",
      "execution_count": null,
      "metadata": {
        "id": "nzWpV1aI6_Ev"
      },
      "outputs": [],
      "source": [
        "# Set the option to display all columns\n",
        "pd.set_option('display.max_columns', None)\n",
        "\n",
        "# Set the option to display all rows\n",
        "pd.set_option('display.max_rows', None)"
      ]
    },
    {
      "cell_type": "code",
      "execution_count": null,
      "metadata": {
        "colab": {
          "base_uri": "https://localhost:8080/"
        },
        "id": "PmWIEpbI7SRW",
        "outputId": "f685bb99-51ce-4ce2-aa55-dad1d61a2869"
      },
      "outputs": [],
      "source": [
        "# number of rows and columns in the dataset\n",
        "\n",
        "print(df.shape)"
      ]
    },
    {
      "cell_type": "code",
      "execution_count": null,
      "metadata": {
        "id": "z5p-gEby7Vos"
      },
      "outputs": [],
      "source": [
        "# number of unique values in each column\n",
        "\n",
        "print(df.nunique())"
      ]
    },
    {
      "cell_type": "code",
      "execution_count": null,
      "metadata": {
        "id": "WNuchy097XLA"
      },
      "outputs": [],
      "source": [
        "# number of missing values in each column\n",
        "\n",
        "print(df.isnull().sum())"
      ]
    },
    {
      "cell_type": "markdown",
      "metadata": {
        "id": "5AiZBUjVXiSD"
      },
      "source": [
        "## Cleaning & Feature Engineering"
      ]
    },
    {
      "cell_type": "code",
      "execution_count": null,
      "metadata": {
        "id": "YjoJXHcRXmWx"
      },
      "outputs": [],
      "source": [
        "# drop the columns that are not needed/has all missing values:\n",
        "\n",
        "df_dropped = df.drop(columns=['LALVOTERID',\n",
        "                                'L2_filename',\n",
        "                                'file_date',\n",
        "                                'Voters_FirstName',\n",
        "                                'Voters_MiddleName',\n",
        "                                'Voters_LastName',\n",
        "                                'VoterTelephones_FullPhone',\n",
        "                                'VoterTelephones_Phone10',\n",
        "                                'Voters_NameSuffix',\n",
        "                                'Voters_CalculatedRegDate',\n",
        "                                'Voters_OfficialRegDate',\n",
        "                                'EthnicGroups_EthnicGroup1',\n",
        "                                'EthnicGroups_EthnicGroup2',\n",
        "                                'Residence_Addresses_AddressLine',\n",
        "                                'Residence_Addresses_ExtraAddressLine',\n",
        "                                'Residence_Addresses_City',\n",
        "                                'Residence_Addresses_State',\n",
        "                                'Residence_Addresses_Zip',\n",
        "                                'Residence_Addresses_ZipPlus4',\n",
        "                                'Residence_Addresses_HouseNumber',\n",
        "                                'Residence_Addresses_ApartmentNum',\n",
        "                                'Residence_Addresses_ApartmentType',\n",
        "                                'CommercialData_HomePurchaseDate',\n",
        "                                'Precinct',\n",
        "                                'County',\n",
        "                                'rand_num',\n",
        "                                '_2022_Proposed_Congressional_District',\n",
        "                                '_2022_Proposed_State_Senate_District',\n",
        "                                '_2022_Proposed_State_House_District',\n",
        "                                '_2022_Proposed_State_Legislative_District',\n",
        "                                ])"
      ]
    },
    {
      "cell_type": "code",
      "execution_count": null,
      "metadata": {
        "id": "_BBPbtOCXoRy"
      },
      "outputs": [],
      "source": [
        "# convert 'Voters_Gender' to 0 and 1, where 0 is M and 1 is F\n",
        "\n",
        "df_dropped['Voters_Gender'] = df_dropped['Voters_Gender'].apply(lambda x: 0 if x == 'M' else 1)\n",
        "\n",
        "# convert 'voted' column to 0 and 1, where 0 is NaN and 1 is Y\n",
        "\n",
        "df_dropped['voted'] = df_dropped['voted'].apply(lambda x: 1 if x == 'Y' else 0)\n",
        "\n",
        "# convert the following columns to 0 and 1, where 0 is NaN and 1 is Yes\n",
        "\n",
        "df_dropped['CommercialDataLL_Veteran'] = df_dropped['CommercialDataLL_Veteran'].apply(lambda x: 1 if x == 'Yes' else 0)\n",
        "df_dropped['CommercialDataLL_Gun_Owner'] = df_dropped['CommercialDataLL_Gun_Owner'].apply(lambda x: 1 if x == 'Yes' else 0)\n",
        "df_dropped['CommercialDataLL_Pro_Choice'] = df_dropped['CommercialDataLL_Pro_Choice'].apply(lambda x: 1 if x == 'Yes' else 0)\n",
        "df_dropped['CommercialDataLL_Pro_Life'] = df_dropped['CommercialDataLL_Pro_Life'].apply(lambda x: 1 if x == 'Yes' else 0)\n",
        "df_dropped['CommercialDataLL_Business_Owner'] = df_dropped['CommercialDataLL_Business_Owner'].apply(lambda x: 1 if x == 'Yes' else 0)\n",
        "df_dropped['CommercialDataLL_Investor'] = df_dropped['CommercialDataLL_Investor'].apply(lambda x: 1 if x == 'Yes' else 0)\n",
        "df_dropped['CommercialDataLL_Donates_to_Local_Community'] = df_dropped['CommercialDataLL_Donates_to_Local_Community'].apply(lambda x: 1 if x == 'Yes' else 0)\n",
        "df_dropped['CommercialDataLL_Donates_to_Liberal_Causes'] = df_dropped['CommercialDataLL_Donates_to_Liberal_Causes'].apply(lambda x: 1 if x == 'Yes' else 0)\n",
        "df_dropped['CommercialDataLL_Donates_to_Conservative_Causes'] = df_dropped['CommercialDataLL_Donates_to_Conservative_Causes'].apply(lambda x: 1 if x == 'Yes' else 0)\n",
        "df_dropped['CommercialDataLL_Donates_to_Wildlife_Preservation'] = df_dropped['CommercialDataLL_Donates_to_Wildlife_Preservation'].apply(lambda x: 1 if x == 'Yes' else 0)\n",
        "df_dropped['CommercialDataLL_Donates_to_Veterans_Causes'] = df_dropped['CommercialDataLL_Donates_to_Veterans_Causes'].apply(lambda x: 1 if x == 'Yes' else 0)\n",
        "df_dropped['CommercialDataLL_Donates_to_International_Aid_Causes'] = df_dropped['CommercialDataLL_Donates_to_International_Aid_Causes'].apply(lambda x: 1 if x == 'Yes' else 0)\n",
        "df_dropped['CommercialDataLL_Donates_to_Healthcare'] = df_dropped['CommercialDataLL_Donates_to_Healthcare'].apply(lambda x: 1 if x == 'Yes' else 0)\n",
        "df_dropped['CommercialDataLL_Donates_to_Childrens_Causes'] = df_dropped['CommercialDataLL_Donates_to_Childrens_Causes'].apply(lambda x: 1 if x == 'Yes' else 0)\n",
        "df_dropped['CommercialDataLL_Donates_to_Arts_and_Culture'] = df_dropped['CommercialDataLL_Donates_to_Arts_and_Culture'].apply(lambda x: 1 if x == 'Yes' else 0)\n",
        "df_dropped['CommercialDataLL_Donates_to_Animal_Welfare'] = df_dropped['CommercialDataLL_Donates_to_Animal_Welfare'].apply(lambda x: 1 if x == 'Yes' else 0)"
      ]
    },
    {
      "cell_type": "code",
      "execution_count": null,
      "metadata": {
        "id": "bTw9nLEnXod2"
      },
      "outputs": [],
      "source": [
        "# remove dollar sign in these columns and convert it to integer, ingore NaN values\n",
        "\n",
        "df_dropped['CommercialData_EstimatedIncomeAmount'] = df_dropped['CommercialData_EstimatedIncomeAmount'].str.replace('$', '')\n",
        "\n",
        "\n",
        "df_dropped['CommercialData_HomePurchasePrice'] = df_dropped['CommercialData_HomePurchasePrice'].str.replace('$', '')\n",
        "\n",
        "\n",
        "df_dropped['CommercialData_LandValue'] = df_dropped['CommercialData_LandValue'].str.replace('$', '')\n",
        "\n",
        "df_dropped['CommercialData_EstHomeValue'] = df_dropped['CommercialData_EstHomeValue'].str.replace('$', '')"
      ]
    },
    {
      "cell_type": "code",
      "execution_count": null,
      "metadata": {
        "id": "UgVvXXvGXomH"
      },
      "outputs": [],
      "source": [
        "# using datetime, calculate the calculated_age of each voter by subtracting Voters_BirthDate from elec_date\n",
        "\n",
        "df_dropped['Voters_BirthDate'] = pd.to_datetime(df_dropped['Voters_BirthDate'])\n",
        "df_dropped['elec_date'] = pd.to_datetime(df_dropped['elec_date'])\n",
        "\n",
        "df_dropped['calculated_age'] = df_dropped['elec_date'] - df_dropped['Voters_BirthDate']\n",
        "\n",
        "# set calculated_age to be the number of years (nearest integer) instead of days\n",
        "\n",
        "df_dropped['calculated_age'] = df_dropped['calculated_age'].dt.days // 365\n",
        "\n",
        "# drop Voters_BirthDate and elec_date, move calculated_age to the 4th column\n",
        "\n",
        "df_dropped = df_dropped.drop(columns=['Voters_BirthDate', 'elec_date'])\n",
        "calculated_age_col = df_dropped.pop('calculated_age')\n",
        "df_dropped.insert(3, 'calculated_age', calculated_age_col)"
      ]
    },
    {
      "cell_type": "code",
      "execution_count": null,
      "metadata": {
        "colab": {
          "base_uri": "https://localhost:8080/"
        },
        "id": "KOqNMP7v8B3F",
        "outputId": "de76532d-6210-4166-e1b1-b9cd07654ec2"
      },
      "outputs": [],
      "source": [
        "df_dropped['Voters_PlaceOfBirth']"
      ]
    },
    {
      "cell_type": "code",
      "execution_count": null,
      "metadata": {
        "colab": {
          "base_uri": "https://localhost:8080/",
          "height": 260
        },
        "id": "sWn9TqDx8JqP",
        "outputId": "88bb3201-5a6d-4cce-b7c0-2ec3f96cca2c"
      },
      "outputs": [],
      "source": [
        "df_dropped.head()"
      ]
    },
    {
      "cell_type": "code",
      "execution_count": null,
      "metadata": {
        "colab": {
          "base_uri": "https://localhost:8080/"
        },
        "id": "D9rz090Z8ZEx",
        "outputId": "10d6b85a-fce5-4793-e534-9c18ceea60e5"
      },
      "outputs": [],
      "source": [
        "from collections import Counter\n",
        "df_dropped['Voters_PlaceOfBirth'].value_counts().sort_index()"
      ]
    },
    {
      "cell_type": "code",
      "execution_count": null,
      "metadata": {
        "id": "44lVd4xfXoo7"
      },
      "outputs": [],
      "source": [
        "# if Voters_PlaceOfBirth != 'CALIFORNIA' then set new column 'born_in_ca' to 0, else 1\n",
        "\n",
        "# df_dropped['born_in_ca'] = df_dropped['Voters_PlaceOfBirth'].apply(lambda x: 1 if x == 'CALIFORNIA' else 0)\n",
        "\n",
        "# drop Voters_PlaceOfBirth, move born_in_ca to the 5th column\n",
        "\n",
        "df_dropped = df_dropped.drop(columns=['Voters_PlaceOfBirth'])\n",
        "# born_in_ca_col = df_dropped.pop('born_in_ca')\n",
        "# df_dropped.insert(4, 'born_in_ca', born_in_ca_col)"
      ]
    },
    {
      "cell_type": "markdown",
      "metadata": {
        "id": "LFIUcTedX3i4"
      },
      "source": [
        "**CONTINUOUS:**\n",
        "\n",
        "calculated_age\\\n",
        "Residence_Addresses_Longitude\\\n",
        "Residence_Addresses_Latitude\\\n",
        "CommercialData_EstimatedIncomeAmount\\\n",
        "CommercialData_HomePurchasePrice\\\n",
        "CommercialData_LandValue\\\n",
        "CommercialData_EstHomeValue\n",
        "\n",
        "\n",
        "**CATEGORICAL:**\n",
        "\n",
        "state\\\n",
        "elec_type\\\n",
        "Parties_Description\\\n",
        "EthnicGroups_EthnicGroup1Desc\\\n",
        "EthnicGroups_EthnicGroup2Desc\\\n",
        "Ethnic_Description\\\n",
        "Religions_Description\\\n",
        "Languages_Description\\\n",
        "Residence_HHParties_Description\\\n",
        "Residence_Addresses_CensusTract\\\n",
        "Residence_Addresses_CensusBlockGroup\\\n",
        "Residence_Addresses_CensusBlock\\\n",
        "CommercialData_PresenceOfChildrenCode\\\n",
        "CommercialData_EstimatedIncome\\\n",
        "CommercialData_Education\\\n",
        "CommercialData_Occupation\\\n",
        "CommercialData_PropertyType\\\n",
        "CommercialDataLL_Gun_Control\\\n",
        "CommercialDataLL_Home_Owner_Or_Renter\\\n",
        "CommercialDataLL_Net_Worth\\\n",
        "_2011_NEW_Congressional_District\\\n",
        "_2001_OLD_Congressional_District\\\n",
        "_2011_NEW_State_House_District\\\n",
        "_2011_NEW_State_Senate_District\n",
        "\n",
        "\n",
        "**BINARY:**\n",
        "\n",
        "voted\\\n",
        "born_in_ca\\\n",
        "Voters_Gender\\\n",
        "CommercialDataLL_Veteran\\\n",
        "CommercialDataLL_Gun_Owner\\\n",
        "CommercialDataLL_Pro_Choice\\\n",
        "CommercialDataLL_Pro_Life\\\n",
        "CommercialDataLL_Business_Owner\\\n",
        "CommercialDataLL_Investor\\\n",
        "CommercialDataLL_Donates_to_Local_Community\\\n",
        "CommercialDataLL_Donates_to_Liberal_Causes\\\n",
        "CommercialDataLL_Donates_to_Conservative_Causes\\\n",
        "CommercialDataLL_Donates_to_Wildlife_Preservation\\\n",
        "CommercialDataLL_Donates_to_Veterans_Causes\\\n",
        "CommercialDataLL_Donates_to_International_Aid_Causes\\\n",
        "CommercialDataLL_Donates_to_Healthcare\\\n",
        "CommercialDataLL_Donates_to_Childrens_Causes\\\n",
        "CommercialDataLL_Donates_to_Arts_and_Culture\\\n",
        "CommercialDataLL_Donates_to_Animal_Welfare"
      ]
    },
    {
      "cell_type": "code",
      "execution_count": null,
      "metadata": {
        "id": "GZq3vhmy4WQt"
      },
      "outputs": [],
      "source": [
        "# for each row if any of the following columns have a value of 1, set a new column 'nonpartisan_donation' to 1, else 0\n",
        "\n",
        "df_dropped['nonpartisan_donation'] = df_dropped[['CommercialDataLL_Donates_to_Local_Community',\n",
        "                                                    'CommercialDataLL_Donates_to_Conservative_Causes',\n",
        "                                                    'CommercialDataLL_Donates_to_Wildlife_Preservation',\n",
        "                                                    'CommercialDataLL_Donates_to_Veterans_Causes',\n",
        "                                                    'CommercialDataLL_Donates_to_International_Aid_Causes',\n",
        "                                                    'CommercialDataLL_Donates_to_Healthcare',\n",
        "                                                    'CommercialDataLL_Donates_to_Childrens_Causes',\n",
        "                                                    'CommercialDataLL_Donates_to_Arts_and_Culture',\n",
        "                                                    'CommercialDataLL_Donates_to_Animal_Welfare']].any(axis=1).astype(int)\n",
        "\n",
        "\n",
        "df_selected_columns = df_dropped[['state',\n",
        "                                    'voted',\n",
        "                                    'calculated_age',\n",
        "                                    'Voters_Gender',\n",
        "                                    'Parties_Description',\n",
        "                                    'EthnicGroups_EthnicGroup1Desc',\n",
        "                                    'Ethnic_Description',\n",
        "                                    'Residence_HHParties_Description',\n",
        "                                    #'Residence_Addresses_CensusTract',\n",
        "                                    'CommercialData_EstimatedIncomeAmount',\n",
        "                                    'CommercialData_PropertyType',\n",
        "                                    'CommercialData_EstHomeValue',\n",
        "                                    'nonpartisan_donation']]\n",
        "\n"
      ]
    },
    {
      "cell_type": "code",
      "execution_count": null,
      "metadata": {
        "id": "YF3rlReV963R"
      },
      "outputs": [],
      "source": [
        "# resample from the national sample, certain features too skewed\n",
        "\n",
        "#cat_var = ['Parties_Description', 'EthnicGroups_EthnicGroup1Desc','Ethnic_Description', 'CommercialData_Education']\n",
        "dropped_features = ['EthnicGroups_EthnicGroup2Desc', 'Languages_Description', 'CommercialData_EstimatedIncome']\n",
        "unsure_features = ['CommercialDataLL_Veteran', 'CommercialData_PresenceOfChildrenCode']\n",
        "\n",
        "#Infra questions\n",
        "  #how imbalance can a feature be\n",
        "  #how many imcomplete data can a feature have\n",
        "  #can they synthetize ordinal variables\n",
        "\n",
        "\n",
        "# columns we def want:\n",
        "# state, voted, calculated_age, Voters_Gender, Parties_Description, EthnicGroups_EthnicGroup1Desc, Ethnic_Description\n",
        "# Residence_HHParties_Description, Residence_Addresses_CensusTract, CommercialData_EstimatedIncomeAmount,\n",
        "# CommercialData_PropertyType, CommercialData_EstHomeValue\n",
        "\n",
        "# aggregate donate data into column - whether donate or not"
      ]
    },
    {
      "cell_type": "code",
      "execution_count": null,
      "metadata": {
        "id": "oM-yKSM0Xo8Y"
      },
      "outputs": [],
      "source": [
        "# export the cleaned dataset to a new csv file\n",
        "\n",
        "df_selected_columns.to_csv('../training/entire_cleaned.csv', index=False)"
      ]
    },
    {
      "cell_type": "code",
      "execution_count": null,
      "metadata": {
        "id": "F61cCl6SnNnN"
      },
      "outputs": [],
      "source": [
        "# randomly sample 100 rows from the cleaned dataset\n",
        "\n",
        "# set seed to 0 to get the same random sample each time\n",
        "\n",
        "df_selected_sampled = df_selected_columns.sample(20000, random_state=0)\n",
        "\n",
        "df_selected_sampled.to_csv('../training/training_20k.csv', index=False)\n"
      ]
    }
  ],
  "metadata": {
    "colab": {
      "provenance": []
    },
    "kernelspec": {
      "display_name": "Python 3",
      "name": "python3"
    },
    "language_info": {
      "name": "python"
    }
  },
  "nbformat": 4,
  "nbformat_minor": 0
}
